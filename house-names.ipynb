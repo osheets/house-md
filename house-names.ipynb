{
 "cells": [
  {
   "cell_type": "markdown",
   "metadata": {},
   "source": [
    "# House MD Names analysis\n",
    "\n",
    "I've recently fallen back into an House M.D. 10 years after my last rewatch (when I was 14). Partway through my rewatch I wanted to know if Cuddy ever addressed Wilson by \"James\", which escalated to wanting to know how many times every character mentioned every other character by their first or last name."
   ]
  },
  {
   "cell_type": "code",
   "execution_count": 211,
   "metadata": {},
   "outputs": [],
   "source": [
    "import re\n",
    "import requests\n",
    "from bs4 import BeautifulSoup\n",
    "\n",
    "import numpy as np\n",
    "import pandas as pd\n",
    "from urllib.parse import urlparse"
   ]
  },
  {
   "cell_type": "markdown",
   "metadata": {},
   "source": [
    "## Data extraction"
   ]
  },
  {
   "cell_type": "code",
   "execution_count": 26,
   "metadata": {},
   "outputs": [],
   "source": [
    "# Transcript list\n",
    "# https://clinic-duty.livejournal.com/12225.html\n",
    "\n",
    "response = requests.get('https://clinic-duty.livejournal.com/12225.html')\n",
    "assert response.ok"
   ]
  },
  {
   "cell_type": "code",
   "execution_count": 209,
   "metadata": {},
   "outputs": [
    {
     "data": {
      "text/plain": [
       "'http://community.livejournal.com/clinic_duty/1970.html'"
      ]
     },
     "execution_count": 209,
     "metadata": {},
     "output_type": "execute_result"
    }
   ],
   "source": [
    "episode_elements[10]['href']"
   ]
  },
  {
   "cell_type": "code",
   "execution_count": 227,
   "metadata": {},
   "outputs": [
    {
     "data": {
      "text/html": [
       "<div>\n",
       "<style scoped>\n",
       "    .dataframe tbody tr th:only-of-type {\n",
       "        vertical-align: middle;\n",
       "    }\n",
       "\n",
       "    .dataframe tbody tr th {\n",
       "        vertical-align: top;\n",
       "    }\n",
       "\n",
       "    .dataframe thead th {\n",
       "        text-align: right;\n",
       "    }\n",
       "</style>\n",
       "<table border=\"1\" class=\"dataframe\">\n",
       "  <thead>\n",
       "    <tr style=\"text-align: right;\">\n",
       "      <th></th>\n",
       "      <th>Episode Title</th>\n",
       "      <th>Season</th>\n",
       "      <th>Episode Number</th>\n",
       "      <th>URL</th>\n",
       "    </tr>\n",
       "    <tr>\n",
       "      <th>#</th>\n",
       "      <th></th>\n",
       "      <th></th>\n",
       "      <th></th>\n",
       "      <th></th>\n",
       "    </tr>\n",
       "  </thead>\n",
       "  <tbody>\n",
       "    <tr>\n",
       "      <th>1.01</th>\n",
       "      <td>Pilot</td>\n",
       "      <td>1</td>\n",
       "      <td>1</td>\n",
       "      <td>https://clinic_duty.livejournal.com/385.html</td>\n",
       "    </tr>\n",
       "    <tr>\n",
       "      <th>1.02</th>\n",
       "      <td>Paternity</td>\n",
       "      <td>1</td>\n",
       "      <td>2</td>\n",
       "      <td>https://clinic_duty.livejournal.com/620.html</td>\n",
       "    </tr>\n",
       "    <tr>\n",
       "      <th>1.03</th>\n",
       "      <td>Occam's Razor</td>\n",
       "      <td>1</td>\n",
       "      <td>3</td>\n",
       "      <td>https://clinic_duty.livejournal.com/1018.html</td>\n",
       "    </tr>\n",
       "    <tr>\n",
       "      <th>1.04</th>\n",
       "      <td>Maternity</td>\n",
       "      <td>1</td>\n",
       "      <td>4</td>\n",
       "      <td>https://clinic_duty.livejournal.com/1082.html</td>\n",
       "    </tr>\n",
       "    <tr>\n",
       "      <th>1.05</th>\n",
       "      <td>Damned If You Do</td>\n",
       "      <td>1</td>\n",
       "      <td>5</td>\n",
       "      <td>https://clinic_duty.livejournal.com/1302.html</td>\n",
       "    </tr>\n",
       "    <tr>\n",
       "      <th>...</th>\n",
       "      <td>...</td>\n",
       "      <td>...</td>\n",
       "      <td>...</td>\n",
       "      <td>...</td>\n",
       "    </tr>\n",
       "    <tr>\n",
       "      <th>8.18</th>\n",
       "      <td>Body and Soul</td>\n",
       "      <td>8</td>\n",
       "      <td>18</td>\n",
       "      <td>https://clinic_duty.livejournal.com/49746.html...</td>\n",
       "    </tr>\n",
       "    <tr>\n",
       "      <th>8.19</th>\n",
       "      <td>The C-Word</td>\n",
       "      <td>8</td>\n",
       "      <td>19</td>\n",
       "      <td>https://clinic_duty.livejournal.com/49991.html...</td>\n",
       "    </tr>\n",
       "    <tr>\n",
       "      <th>8.20</th>\n",
       "      <td>Post Mortem</td>\n",
       "      <td>8</td>\n",
       "      <td>20</td>\n",
       "      <td>https://clinic_duty.livejournal.com/50246.html...</td>\n",
       "    </tr>\n",
       "    <tr>\n",
       "      <th>8.21</th>\n",
       "      <td>Holding On</td>\n",
       "      <td>8</td>\n",
       "      <td>21</td>\n",
       "      <td>https://clinic_duty.livejournal.com/50606.html...</td>\n",
       "    </tr>\n",
       "    <tr>\n",
       "      <th>8.22</th>\n",
       "      <td>Everybody Dies</td>\n",
       "      <td>8</td>\n",
       "      <td>22</td>\n",
       "      <td>https://clinic_duty.livejournal.com/50943.html...</td>\n",
       "    </tr>\n",
       "  </tbody>\n",
       "</table>\n",
       "<p>177 rows × 4 columns</p>\n",
       "</div>"
      ],
      "text/plain": [
       "         Episode Title Season  Episode Number  \\\n",
       "#                                               \n",
       "1.01             Pilot      1               1   \n",
       "1.02         Paternity      1               2   \n",
       "1.03     Occam's Razor      1               3   \n",
       "1.04         Maternity      1               4   \n",
       "1.05  Damned If You Do      1               5   \n",
       "...                ...    ...             ...   \n",
       "8.18     Body and Soul      8              18   \n",
       "8.19        The C-Word      8              19   \n",
       "8.20       Post Mortem      8              20   \n",
       "8.21        Holding On      8              21   \n",
       "8.22    Everybody Dies      8              22   \n",
       "\n",
       "                                                    URL  \n",
       "#                                                        \n",
       "1.01       https://clinic_duty.livejournal.com/385.html  \n",
       "1.02       https://clinic_duty.livejournal.com/620.html  \n",
       "1.03      https://clinic_duty.livejournal.com/1018.html  \n",
       "1.04      https://clinic_duty.livejournal.com/1082.html  \n",
       "1.05      https://clinic_duty.livejournal.com/1302.html  \n",
       "...                                                 ...  \n",
       "8.18  https://clinic_duty.livejournal.com/49746.html...  \n",
       "8.19  https://clinic_duty.livejournal.com/49991.html...  \n",
       "8.20  https://clinic_duty.livejournal.com/50246.html...  \n",
       "8.21  https://clinic_duty.livejournal.com/50606.html...  \n",
       "8.22  https://clinic_duty.livejournal.com/50943.html...  \n",
       "\n",
       "[177 rows x 4 columns]"
      ]
     },
     "metadata": {},
     "output_type": "display_data"
    }
   ],
   "source": [
    "soup = BeautifulSoup(response.text, 'html.parser')\n",
    "episode_elements = soup.select('div.entryHolder a[target=\"_blank\"][href]')\n",
    "episode_titles = re.findall(r'(\\d\\.\\d\\d) - (.+?)(?=(\\d\\.\\d\\d)|$)', episode_elements[0].parent.text.replace('\\n', ''))\n",
    "episode_titles = [(x[0], x[1]) for x in episode_titles]\n",
    "\n",
    "episode_df = pd.DataFrame(episode_titles, columns=['#', 'Episode Title'])\n",
    "episode_df['Season'] = episode_df['#'].apply(lambda x: x[0])\n",
    "episode_df['Episode Number'] = episode_df['#'].apply(lambda x: int(x[-2:]))\n",
    "episode_df.set_index('#', inplace=True)\n",
    "\n",
    "\n",
    "episode_df.loc['3.24', 'Episode Title'] = \" \".join(episode_df.loc['3.24', 'Episode Title'].split()[:2])\n",
    "episode_df.loc['6.22', 'Episode Title'] = \" \".join(episode_df.loc['6.22', 'Episode Title'].split()[:2])\n",
    "episode_df['Episode Title'] = episode_df['Episode Title'].str.strip()\n",
    "\n",
    "episode_urls = {elem.text.strip(): elem['href'] for elem in episode_elements}\n",
    "episode_df['URL'] = episode_df['Episode Title'].apply(lambda x: episode_urls[x])\n",
    "\n",
    "def url_parsing(x):\n",
    "    url = urlparse(x)\n",
    "    path = url.path\n",
    "    path = re.sub('clinic_duty/', '', path)\n",
    "    return url._replace(scheme='https', netloc='clinic_duty.livejournal.com', path=path).geturl()\n",
    "\n",
    "episode_df['URL'] = episode_df['URL'].apply(lambda x: url_parsing(x))\n",
    "\n",
    "display(episode_df)"
   ]
  },
  {
   "cell_type": "code",
   "execution_count": 228,
   "metadata": {},
   "outputs": [],
   "source": [
    "# episode_df.to_csv('episode_data.csv', index=True)"
   ]
  },
  {
   "cell_type": "markdown",
   "metadata": {},
   "source": [
    "## Data analysis"
   ]
  },
  {
   "cell_type": "markdown",
   "metadata": {},
   "source": [
    "## Conclusions"
   ]
  }
 ],
 "metadata": {
  "kernelspec": {
   "display_name": "analytics-dashboard",
   "language": "python",
   "name": "python3"
  },
  "language_info": {
   "codemirror_mode": {
    "name": "ipython",
    "version": 3
   },
   "file_extension": ".py",
   "mimetype": "text/x-python",
   "name": "python",
   "nbconvert_exporter": "python",
   "pygments_lexer": "ipython3",
   "version": "3.8.18"
  }
 },
 "nbformat": 4,
 "nbformat_minor": 2
}
